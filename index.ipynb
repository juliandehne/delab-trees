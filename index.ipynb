{
 "cells": [
  {
   "cell_type": "markdown",
   "id": "8f3a8aa3973bd55",
   "metadata": {
    "collapsed": false
   },
   "source": [
    "---\n",
    "author: Julian Dehne\n",
    "bibliography: references.bib\n",
    "logo: tutorial/img/conversation02.png\n",
    "execute:\n",
    "  freeze: auto \n",
    "---\n",
    "\n",
    "# Analyzing Social Media Conversations Trees\n",
    "\n",
    "## Learning Objectives\n",
    "\n",
    "By the end of this tutorial, you will be able to\n",
    "\n",
    "- Analyze the integrity of the social media conversation.\n",
    "- Use network analysis to extract longer reply path that might represent actual deliberation\n",
    "- Use network analysis to show which author is the most central in the discussion\n",
    "\n",
    "\n",
    "## Description\n",
    "- This notebook introduces the python library delab_trees and showcases on some examples how it can be useful in dealing with social media data.\n",
    "\n",
    "## Target Audience\n",
    "\n",
    "- This library is intended for advanced CSS researchers that have a solid background in network computing and python\n",
    "- Motivated intermediate learners may use some of the toolings as a blackbox to arrive at the conversation pathways later used in their research\n",
    "\n",
    "## Prerequisites\n",
    "\n",
    "Before you begin, you need to know the following technologies.\n",
    "\n",
    "- python\n",
    "- networkX\n",
    "- pandas\n",
    "\n",
    "## Environment Setup\n",
    "\n",
    "- In order to run this tutorial, you need at least Python >= 3.9\n",
    "- the library will install all its dependencies, just run\n",
    "\n",
    "```python\n",
    "pip install delab_trees\n",
    "```\n",
    "\n",
    "## Social Science Usecases \n",
    "\n",
    "This learning resource is useful if you have encountered one of these three use cases:\n",
    "- deleted posts in your social media data\n",
    "- interest in author interactions on social media\n",
    "- huge numbers of conversation trees (scalability) \n",
    "- discussion mining (finding actual argumentation sequences in social media)\n",
    "\n",
    "\n",
    "## Sample Input and Output Data \n",
    "\n",
    "Example data for Reddit and Twitter are available here https://github.com/juliandehne/delab-trees/raw/main/delab_trees/data/dataset_[reddit|twitter]_no_text.pkl. \n",
    "The data is structure only. Ids, text, links, or other information that would break confidentiality of the academic \n",
    "access have been omitted.\n",
    "\n",
    "The trees are loaded from tables like this:\n",
    "\n",
    "|    |   tree_id |   post_id |   parent_id | author_id   | text        | created_at          |\n",
    "|---:|----------:|----------:|------------:|:------------|:------------|:--------------------|\n",
    "|  0 |         1 |         1 |         nan | james       | I am James  | 2017-01-01 01:00:00 |\n",
    "|  1 |         1 |         2 |           1 | mark        | I am Mark   | 2017-01-01 02:00:00 |\n",
    "|  2 |         1 |         3 |           2 | steven      | I am Steven | 2017-01-01 03:00:00 |\n",
    "|  3 |         1 |         4 |           1 | john        | I am John   | 2017-01-01 04:00:00 |\n",
    "|  4 |         2 |         1 |         nan | james       | I am James  | 2017-01-01 01:00:00 |\n",
    "|  5 |         2 |         2 |           1 | mark        | I am Mark   | 2017-01-01 02:00:00 |\n",
    "|  6 |         2 |         3 |           2 | steven      | I am Steven | 2017-01-01 03:00:00 |\n",
    "|  7 |         2 |         4 |           3 | john        | I am John   | 2017-01-01 04:00:00 |\n",
    "\n",
    "This dataset contains two conversational trees with four posts each.\n",
    "\n",
    "Currently, you need to import conversational tables as a pandas dataframe like this:\n"
   ]
  },
  {
   "cell_type": "code",
   "outputs": [
    {
     "name": "stdout",
     "output_type": "stream",
     "text": [
      "Active conda environment: testtrees3\n",
      "Python version: 3.9.20 (main, Oct  3 2024, 07:38:01) [MSC v.1929 64 bit (AMD64)]\n",
      "loading data into manager and converting table into trees...\n"
     ]
    },
    {
     "name": "stderr",
     "output_type": "stream",
     "text": [
      "100%|██████████| 1/1 [00:04<00:00,  4.43s/it]\n"
     ]
    },
    {
     "data": {
      "text/plain": "<delab_trees.delab_tree.DelabTree at 0x21661cb32b0>"
     },
     "execution_count": 4,
     "metadata": {},
     "output_type": "execute_result"
    }
   ],
   "source": [
    "import os\n",
    "import sys\n",
    "import warnings\n",
    "import numpy as np  # Example module that might trigger the warning\n",
    "\n",
    "# assert that you have the correct environment\n",
    "print(f\"Active conda environment: {os.getenv('CONDA_DEFAULT_ENV')}\")\n",
    "\n",
    "# assert that you have the correct python version (3.9)\n",
    "print(f\"Python version: {sys.version}\")\n",
    "\n",
    "# Suppress the specific VisibleDeprecationWarning\n",
    "warnings.filterwarnings(\"ignore\", category=np.VisibleDeprecationWarning)\n",
    "\n",
    "# the interesting code\n",
    "from delab_trees import TreeManager\n",
    "import pandas as pd\n",
    "\n",
    "\n",
    "d = {'tree_id': [1] * 4,\n",
    "     'post_id': [1, 2, 3, 4],\n",
    "     'parent_id': [None, 1, 2, 1],\n",
    "     'author_id': [\"james\", \"mark\", \"steven\", \"john\"],\n",
    "     'text': [\"I am James\", \"I am Mark\", \" I am Steven\", \"I am John\"],\n",
    "     \"created_at\": [pd.Timestamp('2017-01-01T01'),\n",
    "                    pd.Timestamp('2017-01-01T02'),\n",
    "                    pd.Timestamp('2017-01-01T03'),\n",
    "                    pd.Timestamp('2017-01-01T04')]}\n",
    "df = pd.DataFrame(data=d)\n",
    "manager = TreeManager(df) \n",
    "# creates one tree\n",
    "test_tree = manager.random()\n",
    "test_tree"
   ],
   "metadata": {
    "collapsed": false,
    "ExecuteTime": {
     "end_time": "2024-10-24T09:30:13.709052Z",
     "start_time": "2024-10-24T09:30:09.192023Z"
    }
   },
   "id": "659f0a78c2da18e0",
   "execution_count": 4
  },
  {
   "cell_type": "markdown",
   "source": [
    "\n",
    "\n",
    "Note that the tree structure is based on the parent_id matching another rows post_id. \n",
    "\n",
    "You can now analyze the reply trees basic metrics:\n"
   ],
   "metadata": {
    "collapsed": false
   },
   "id": "5d969845dc434d1c"
  },
  {
   "cell_type": "code",
   "outputs": [
    {
     "name": "stdout",
     "output_type": "stream",
     "text": [
      "loading data into manager and converting table into trees...\n"
     ]
    },
    {
     "name": "stderr",
     "output_type": "stream",
     "text": [
      "100%|██████████| 1/1 [00:03<00:00,  3.77s/it]"
     ]
    },
    {
     "name": "stdout",
     "output_type": "stream",
     "text": [
      "number of posts in the conversation:  4\n"
     ]
    },
    {
     "name": "stderr",
     "output_type": "stream",
     "text": [
      "\n"
     ]
    }
   ],
   "source": [
    "\n",
    "from delab_trees.test_data_manager import get_test_tree\n",
    "from delab_trees.delab_tree import DelabTree\n",
    "import warnings\n",
    "import numpy as np\n",
    "\n",
    "# Suppress only VisibleDeprecationWarning\n",
    "warnings.filterwarnings(\"ignore\", category=np.VisibleDeprecationWarning)\n",
    "\n",
    "test_tree : DelabTree = get_test_tree()\n",
    "assert test_tree.average_branching_factor() > 0\n",
    "\n",
    "print(\"number of posts in the conversation: \", test_tree.total_number_of_posts())\n"
   ],
   "metadata": {
    "collapsed": false,
    "ExecuteTime": {
     "end_time": "2024-10-23T13:46:44.039662Z",
     "start_time": "2024-10-23T13:46:40.161083Z"
    }
   },
   "id": "62cae029234f8a91",
   "execution_count": 3
  },
  {
   "cell_type": "markdown",
   "source": [
    "\n",
    "## Use Cases\n",
    "\n",
    "### Use Case 1: Analyze the integrity of the social media conversation\n",
    "\n",
    "For this we use the provided anonymized sample data (which is real, still):\n"
   ],
   "metadata": {
    "collapsed": false
   },
   "id": "211330c1d353e174"
  },
  {
   "cell_type": "code",
   "outputs": [
    {
     "name": "stdout",
     "output_type": "stream",
     "text": [
      "loading data into manager and converting table into trees...\n"
     ]
    },
    {
     "name": "stderr",
     "output_type": "stream",
     "text": [
      "100%|██████████| 6/6 [00:06<00:00,  1.11s/it]\n"
     ]
    },
    {
     "data": {
      "text/plain": "'The dataset contains 6 conversations and 24 posts in total.\\nThe average depth of the longest flow per conversation is (2, 4, 3.1666666666666665).\\nThe conversations contain 6 authors and the min and max number of authors per conversation is min:2, max: 4, avg: 3.3333333333333335.\\nThe average length of the posts is 10.0 characters.\\n'"
     },
     "execution_count": 4,
     "metadata": {},
     "output_type": "execute_result"
    }
   ],
   "source": [
    "from delab_trees.test_data_manager import get_test_manager\n",
    "\n",
    "manager = get_test_manager()\n",
    "manager.describe()"
   ],
   "metadata": {
    "collapsed": false,
    "ExecuteTime": {
     "end_time": "2024-10-23T13:46:50.830137Z",
     "start_time": "2024-10-23T13:46:44.041568Z"
    }
   },
   "id": "bca581031591ec28",
   "execution_count": 4
  },
  {
   "cell_type": "markdown",
   "source": [
    "In order to check if all the conversations are valid trees which in social media data, they often are not, simply call:"
   ],
   "metadata": {
    "collapsed": false
   },
   "id": "28edb10e6f9270e6"
  },
  {
   "cell_type": "code",
   "outputs": [
    {
     "name": "stderr",
     "output_type": "stream",
     "text": [
      " 33%|███▎      | 2/6 [00:00<00:00, 222.13it/s]\n"
     ]
    },
    {
     "data": {
      "text/plain": "False"
     },
     "execution_count": 5,
     "metadata": {},
     "output_type": "execute_result"
    }
   ],
   "source": [
    "manager.validate(break_on_invalid=False, verbose=False)"
   ],
   "metadata": {
    "collapsed": false,
    "ExecuteTime": {
     "end_time": "2024-10-23T13:46:50.862164Z",
     "start_time": "2024-10-23T13:46:50.835137Z"
    }
   },
   "id": "def45cdac3e970ee",
   "execution_count": 5
  },
  {
   "cell_type": "markdown",
   "source": [
    "\n",
    "### Use Case 2: Extract Pathways\n",
    "\n",
    "\n",
    "::: {.columns}\n",
    "::: {.column width=\"50%\"}\n",
    "![Photo of marked Pathways](tutorial/img/conversation02.png){#fig-conversationpath width=\"25%\"}\n",
    ":::\n",
    "::: {.column width=\"50%\"}\n",
    "As an analogy with offline-conversations, we are interested in longer reply-chains as depicted in @fig-conversationpath. Here, the nodes are the posts, and the edges read from top to bottom as a post answering another post. The root of the tree is the original post in the online conversation. Every online forum and social media thread can be modeled this way because every post except the root post has a parent, which is the mathematical definition of a recursive tree structure.\n",
    ":::\n",
    ":::\n",
    "\n",
    "The marked path is one of many pathways that can be written down like a transcript from a group discussion. Pathways can be defined as all the paths in a tree that start with the root and end in a leaf (a node without children). This approach serves the function of filtering linear reply-chains in social media (see @Wang2008; @Nishi2016), that can be considered an online equivalent of real-life discussions.\n",
    "\n",
    "In order to have a larger dataset available we are going to load the provided dataset and run the flow_computation for each tree.\n",
    " "
   ],
   "metadata": {
    "collapsed": false
   },
   "id": "6411354e0700dde7"
  },
  {
   "cell_type": "code",
   "outputs": [
    {
     "name": "stdout",
     "output_type": "stream",
     "text": [
      "loading data into manager and converting table into trees...\n"
     ]
    },
    {
     "name": "stderr",
     "output_type": "stream",
     "text": [
      "100%|██████████| 7645/7645 [00:28<00:00, 266.16it/s]\n",
      "100%|██████████| 7645/7645 [00:15<00:00, 503.05it/s]\n"
     ]
    },
    {
     "name": "stdout",
     "output_type": "stream",
     "text": [
      "6235  were found\n",
      "5218  lists with length > 7 were found\n"
     ]
    }
   ],
   "source": [
    "# get the sample trees\n",
    "from delab_trees.test_data_manager import get_social_media_trees\n",
    "\n",
    "social_media_tree_manager = get_social_media_trees()\n",
    "\n",
    "# compute the flows\n",
    "flow_list = [] # initialize an empty list \n",
    "tree: DelabTree = None \n",
    "\n",
    "for tree_id, tree in social_media_tree_manager.trees.items():\n",
    "    flows = tree.get_conversation_flows(as_list=True)\n",
    "    flow_list.append(flows)\n",
    "\n",
    "print(len(flow_list), \" were found\")\n",
    "\n",
    "# now we are only interested in flows of length 5 or more\n",
    "\n",
    "# Filter to only include lists with length 5 or more\n",
    "filtered_lists = [lst for lst in flow_list if len(lst) >= 7]\n",
    "\n",
    "print(len(filtered_lists), \" lists with length > 7 were found\")\n"
   ],
   "metadata": {
    "collapsed": false,
    "ExecuteTime": {
     "end_time": "2024-10-23T14:02:44.726694Z",
     "start_time": "2024-10-23T13:59:30.818909Z"
    }
   },
   "id": "c2e8a8611ccf5ed1",
   "execution_count": 9
  },
  {
   "cell_type": "markdown",
   "source": [
    "\n",
    "Use Case 3: compute the centrality of authors in the conversation\n"
   ],
   "metadata": {
    "collapsed": false
   },
   "id": "128133f4a038ad98"
  },
  {
   "cell_type": "code",
   "outputs": [
    {
     "name": "stdout",
     "output_type": "stream",
     "text": [
      "loading data into manager and converting table into trees...\n"
     ]
    },
    {
     "name": "stderr",
     "output_type": "stream",
     "text": [
      "100%|██████████| 1/1 [00:06<00:00,  6.85s/it]"
     ]
    },
    {
     "name": "stdout",
     "output_type": "stream",
     "text": [
      "centrality of author mark is 0.16666666666666666\n",
      "centrality of author steven is 0.0\n",
      "centrality of author james is 0.0\n",
      "centrality of author john is 0.0\n"
     ]
    },
    {
     "name": "stderr",
     "output_type": "stream",
     "text": [
      "\n"
     ]
    }
   ],
   "source": [
    "\n",
    "test_tree : DelabTree = get_test_tree()\n",
    "metrics =  test_tree.get_author_metrics() # returns a map with author ids as keys\n",
    "for author_id, metrics in metrics.items():\n",
    "    print(\"centrality of author {} is {}\".format(author_id, metrics.betweenness_centrality))\n"
   ],
   "metadata": {
    "collapsed": false,
    "ExecuteTime": {
     "end_time": "2024-10-23T14:06:14.264728Z",
     "start_time": "2024-10-23T14:06:07.076284Z"
    }
   },
   "id": "519640ba4110fb70",
   "execution_count": 10
  },
  {
   "cell_type": "markdown",
   "source": [
    "The result shows, that only mark is central in the sense that he is answered to and has answered. In bigger trees, this makes more sense.\n",
    "\n",
    "\n",
    "## Conclusion \n",
    "Now you should be able to analyze social media trees effectively. For any questions, write me an email. I am happy to help!\n",
    "\n",
    "Also I would be happy if someone is interested in doing research and writing a publication with this library!\n",
    "\n",
    "\n",
    "## Exercises or Challenges (Optional)\n",
    "\n",
    "Learning exercises are forthcoming!\n",
    "\n",
    "## FAQs (Optional)\n",
    "\n",
    "This will be filled if more people use the library!\n"
   ],
   "metadata": {
    "collapsed": false
   },
   "id": "d0b23cd637751832"
  },
  {
   "cell_type": "markdown",
   "id": "fed91f8715355446",
   "metadata": {
    "collapsed": false
   },
   "source": []
  }
 ],
 "metadata": {
  "kernelspec": {
   "display_name": "Python 3 (ipykernel)",
   "language": "python",
   "name": "python3"
  },
  "language_info": {
   "codemirror_mode": {
    "name": "ipython",
    "version": 3
   },
   "file_extension": ".py",
   "mimetype": "text/x-python",
   "name": "python",
   "nbconvert_exporter": "python",
   "pygments_lexer": "ipython3",
   "version": "3.9.18"
  }
 },
 "nbformat": 4,
 "nbformat_minor": 5
}
